{
 "cells": [
  {
   "cell_type": "markdown",
   "id": "7a3073a7",
   "metadata": {},
   "source": [
    "## Immigrants in Canada"
   ]
  },
  {
   "cell_type": "markdown",
   "id": "e8887c04",
   "metadata": {},
   "source": [
    "In this analysis I aim to show the trend of immigrants in Canada over the period i.e from 1980 to 2013"
   ]
  },
  {
   "cell_type": "code",
   "execution_count": 1,
   "id": "24c489c5",
   "metadata": {},
   "outputs": [],
   "source": [
    "import pandas as pd\n",
    "import numpy as np\n",
    "import seaborn as sns\n",
    "import matplotlib.pyplot as plt"
   ]
  },
  {
   "cell_type": "code",
   "execution_count": 2,
   "id": "2036b483",
   "metadata": {},
   "outputs": [],
   "source": [
    "data=pd.read_csv(\"canada.csv\")"
   ]
  },
  {
   "cell_type": "code",
   "execution_count": 3,
   "id": "adedd932",
   "metadata": {},
   "outputs": [
    {
     "data": {
      "text/html": [
       "<div>\n",
       "<style scoped>\n",
       "    .dataframe tbody tr th:only-of-type {\n",
       "        vertical-align: middle;\n",
       "    }\n",
       "\n",
       "    .dataframe tbody tr th {\n",
       "        vertical-align: top;\n",
       "    }\n",
       "\n",
       "    .dataframe thead th {\n",
       "        text-align: right;\n",
       "    }\n",
       "</style>\n",
       "<table border=\"1\" class=\"dataframe\">\n",
       "  <thead>\n",
       "    <tr style=\"text-align: right;\">\n",
       "      <th></th>\n",
       "      <th>Type</th>\n",
       "      <th>Coverage</th>\n",
       "      <th>OdName</th>\n",
       "      <th>AREA</th>\n",
       "      <th>AreaName</th>\n",
       "      <th>REG</th>\n",
       "      <th>RegName</th>\n",
       "      <th>DEV</th>\n",
       "      <th>DevName</th>\n",
       "      <th>1980</th>\n",
       "      <th>...</th>\n",
       "      <th>2012</th>\n",
       "      <th>2013</th>\n",
       "      <th>FIELD44</th>\n",
       "      <th>FIELD45</th>\n",
       "      <th>FIELD46</th>\n",
       "      <th>FIELD47</th>\n",
       "      <th>FIELD48</th>\n",
       "      <th>FIELD49</th>\n",
       "      <th>FIELD50</th>\n",
       "      <th>FIELD51</th>\n",
       "    </tr>\n",
       "  </thead>\n",
       "  <tbody>\n",
       "    <tr>\n",
       "      <th>0</th>\n",
       "      <td>Immigrants</td>\n",
       "      <td>Foreigners</td>\n",
       "      <td>Afghanistan</td>\n",
       "      <td>935</td>\n",
       "      <td>Asia</td>\n",
       "      <td>5501</td>\n",
       "      <td>Southern Asia</td>\n",
       "      <td>902</td>\n",
       "      <td>Developing regions</td>\n",
       "      <td>16</td>\n",
       "      <td>...</td>\n",
       "      <td>2635</td>\n",
       "      <td>2004</td>\n",
       "      <td>NaN</td>\n",
       "      <td>NaN</td>\n",
       "      <td>NaN</td>\n",
       "      <td>NaN</td>\n",
       "      <td>NaN</td>\n",
       "      <td>NaN</td>\n",
       "      <td>NaN</td>\n",
       "      <td>NaN</td>\n",
       "    </tr>\n",
       "    <tr>\n",
       "      <th>1</th>\n",
       "      <td>Immigrants</td>\n",
       "      <td>Foreigners</td>\n",
       "      <td>Albania</td>\n",
       "      <td>908</td>\n",
       "      <td>Europe</td>\n",
       "      <td>925</td>\n",
       "      <td>Southern Europe</td>\n",
       "      <td>901</td>\n",
       "      <td>Developed regions</td>\n",
       "      <td>1</td>\n",
       "      <td>...</td>\n",
       "      <td>620</td>\n",
       "      <td>603</td>\n",
       "      <td>NaN</td>\n",
       "      <td>NaN</td>\n",
       "      <td>NaN</td>\n",
       "      <td>NaN</td>\n",
       "      <td>NaN</td>\n",
       "      <td>NaN</td>\n",
       "      <td>NaN</td>\n",
       "      <td>NaN</td>\n",
       "    </tr>\n",
       "    <tr>\n",
       "      <th>2</th>\n",
       "      <td>Immigrants</td>\n",
       "      <td>Foreigners</td>\n",
       "      <td>Algeria</td>\n",
       "      <td>903</td>\n",
       "      <td>Africa</td>\n",
       "      <td>912</td>\n",
       "      <td>Northern Africa</td>\n",
       "      <td>902</td>\n",
       "      <td>Developing regions</td>\n",
       "      <td>80</td>\n",
       "      <td>...</td>\n",
       "      <td>3774</td>\n",
       "      <td>4331</td>\n",
       "      <td>NaN</td>\n",
       "      <td>NaN</td>\n",
       "      <td>NaN</td>\n",
       "      <td>NaN</td>\n",
       "      <td>NaN</td>\n",
       "      <td>NaN</td>\n",
       "      <td>NaN</td>\n",
       "      <td>NaN</td>\n",
       "    </tr>\n",
       "    <tr>\n",
       "      <th>3</th>\n",
       "      <td>Immigrants</td>\n",
       "      <td>Foreigners</td>\n",
       "      <td>American Samoa</td>\n",
       "      <td>909</td>\n",
       "      <td>Oceania</td>\n",
       "      <td>957</td>\n",
       "      <td>Polynesia</td>\n",
       "      <td>902</td>\n",
       "      <td>Developing regions</td>\n",
       "      <td>0</td>\n",
       "      <td>...</td>\n",
       "      <td>0</td>\n",
       "      <td>0</td>\n",
       "      <td>NaN</td>\n",
       "      <td>NaN</td>\n",
       "      <td>NaN</td>\n",
       "      <td>NaN</td>\n",
       "      <td>NaN</td>\n",
       "      <td>NaN</td>\n",
       "      <td>NaN</td>\n",
       "      <td>NaN</td>\n",
       "    </tr>\n",
       "    <tr>\n",
       "      <th>4</th>\n",
       "      <td>Immigrants</td>\n",
       "      <td>Foreigners</td>\n",
       "      <td>Andorra</td>\n",
       "      <td>908</td>\n",
       "      <td>Europe</td>\n",
       "      <td>925</td>\n",
       "      <td>Southern Europe</td>\n",
       "      <td>901</td>\n",
       "      <td>Developed regions</td>\n",
       "      <td>0</td>\n",
       "      <td>...</td>\n",
       "      <td>1</td>\n",
       "      <td>1</td>\n",
       "      <td>NaN</td>\n",
       "      <td>NaN</td>\n",
       "      <td>NaN</td>\n",
       "      <td>NaN</td>\n",
       "      <td>NaN</td>\n",
       "      <td>NaN</td>\n",
       "      <td>NaN</td>\n",
       "      <td>NaN</td>\n",
       "    </tr>\n",
       "  </tbody>\n",
       "</table>\n",
       "<p>5 rows × 51 columns</p>\n",
       "</div>"
      ],
      "text/plain": [
       "         Type    Coverage          OdName  AREA AreaName   REG  \\\n",
       "0  Immigrants  Foreigners     Afghanistan   935     Asia  5501   \n",
       "1  Immigrants  Foreigners         Albania   908   Europe   925   \n",
       "2  Immigrants  Foreigners         Algeria   903   Africa   912   \n",
       "3  Immigrants  Foreigners  American Samoa   909  Oceania   957   \n",
       "4  Immigrants  Foreigners         Andorra   908   Europe   925   \n",
       "\n",
       "           RegName  DEV             DevName  1980  ...  2012  2013  FIELD44  \\\n",
       "0    Southern Asia  902  Developing regions    16  ...  2635  2004      NaN   \n",
       "1  Southern Europe  901   Developed regions     1  ...   620   603      NaN   \n",
       "2  Northern Africa  902  Developing regions    80  ...  3774  4331      NaN   \n",
       "3        Polynesia  902  Developing regions     0  ...     0     0      NaN   \n",
       "4  Southern Europe  901   Developed regions     0  ...     1     1      NaN   \n",
       "\n",
       "   FIELD45  FIELD46  FIELD47  FIELD48  FIELD49  FIELD50  FIELD51  \n",
       "0      NaN      NaN      NaN      NaN      NaN      NaN      NaN  \n",
       "1      NaN      NaN      NaN      NaN      NaN      NaN      NaN  \n",
       "2      NaN      NaN      NaN      NaN      NaN      NaN      NaN  \n",
       "3      NaN      NaN      NaN      NaN      NaN      NaN      NaN  \n",
       "4      NaN      NaN      NaN      NaN      NaN      NaN      NaN  \n",
       "\n",
       "[5 rows x 51 columns]"
      ]
     },
     "execution_count": 3,
     "metadata": {},
     "output_type": "execute_result"
    }
   ],
   "source": [
    "data.head(5)"
   ]
  },
  {
   "cell_type": "code",
   "execution_count": 4,
   "id": "ce776049",
   "metadata": {},
   "outputs": [],
   "source": [
    "columns_to_drop=['FIELD44','FIELD45','FIELD46','FIELD47','FIELD48','FIELD49','FIELD50','FIELD51']"
   ]
  },
  {
   "cell_type": "code",
   "execution_count": 5,
   "id": "5c342483",
   "metadata": {},
   "outputs": [],
   "source": [
    "data=data.drop(columns=columns_to_drop)"
   ]
  },
  {
   "cell_type": "code",
   "execution_count": 6,
   "id": "b006c5a7",
   "metadata": {},
   "outputs": [
    {
     "data": {
      "text/plain": [
       "(197, 43)"
      ]
     },
     "execution_count": 6,
     "metadata": {},
     "output_type": "execute_result"
    }
   ],
   "source": [
    "data.shape"
   ]
  },
  {
   "cell_type": "code",
   "execution_count": 7,
   "id": "a9d91892",
   "metadata": {},
   "outputs": [
    {
     "name": "stdout",
     "output_type": "stream",
     "text": [
      "                1980           1981           1982          1983  \\\n",
      "count     197.000000     197.000000     197.000000    197.000000   \n",
      "mean     1453.167513    1306.000000    1230.203046    905.431472   \n",
      "std     10784.524807    9449.373841    8864.905615   6503.149859   \n",
      "min         0.000000       0.000000       0.000000      0.000000   \n",
      "25%         0.000000       0.000000       0.000000      0.000000   \n",
      "50%        14.000000      10.000000      12.000000     12.000000   \n",
      "75%       266.000000     299.000000     299.000000    197.000000   \n",
      "max    143137.000000  128641.000000  121175.000000  89185.000000   \n",
      "\n",
      "               1984          1985          1986           1987           1988  \\\n",
      "count    197.000000    197.000000    197.000000     197.000000     197.000000   \n",
      "mean     896.162437    856.304569   1008.639594    1543.908629    1640.456853   \n",
      "std     6452.570413   6155.858422   7205.630681   11045.558746   11809.252241   \n",
      "min        0.000000      0.000000      0.000000       0.000000       0.000000   \n",
      "25%        0.000000      0.000000      1.000000       1.000000       1.000000   \n",
      "50%       14.000000     17.000000     21.000000      33.000000      36.000000   \n",
      "75%      207.000000    202.000000    257.000000     467.000000     476.000000   \n",
      "max    88272.000000  84346.000000  99351.000000  152075.000000  161585.000000   \n",
      "\n",
      "                1989  ...           2004          2005           2006  \\\n",
      "count     197.000000  ...     197.000000     197.00000     197.000000   \n",
      "mean     1944.670051  ...    2394.131980    2662.35533    2554.720812   \n",
      "std     13939.908653  ...   17119.626937   19104.65330   18261.461660   \n",
      "min         0.000000  ...       0.000000       0.00000       0.000000   \n",
      "25%         1.000000  ...      21.000000      29.00000      26.000000   \n",
      "50%        45.000000  ...     196.000000     211.00000     230.000000   \n",
      "75%       538.000000  ...     866.000000     857.00000     856.000000   \n",
      "max    191550.000000  ...  235822.000000  262242.00000  251640.000000   \n",
      "\n",
      "                2007           2008           2009           2010  \\\n",
      "count     197.000000     197.000000     197.000000     197.000000   \n",
      "mean     2403.583756    2510.091371    2560.101523    2849.614213   \n",
      "std     17129.490442   17908.071420   18276.881231   20386.174875   \n",
      "min         0.000000       0.000000       0.000000       0.000000   \n",
      "25%        32.000000      32.000000      37.000000      42.000000   \n",
      "50%       198.000000     205.000000     217.000000     216.000000   \n",
      "75%       975.000000     975.000000     917.000000     953.000000   \n",
      "max    236753.000000  247244.000000  252170.000000  280687.000000   \n",
      "\n",
      "                2011           2012           2013  \n",
      "count     197.000000     197.000000     197.000000  \n",
      "mean     2525.360406    2618.304569    2629.654822  \n",
      "std     18082.496369   18763.159434   18838.224387  \n",
      "min         0.000000       0.000000       0.000000  \n",
      "25%        38.000000      43.000000      45.000000  \n",
      "50%       196.000000     235.000000     217.000000  \n",
      "75%       851.000000     799.000000     852.000000  \n",
      "max    248748.000000  257903.000000  259021.000000  \n",
      "\n",
      "[8 rows x 34 columns]\n"
     ]
    }
   ],
   "source": [
    "\n",
    "# Calculate summary statistics for the years 1980 to 2013\n",
    "year_columns = data.columns[9:]  # Assuming year columns start from the 9th column\n",
    "summary_stats = data[year_columns].describe()\n",
    "\n",
    "# This will give you statistics like mean, median, std, min, max, etc.\n",
    "print(summary_stats)\n"
   ]
  },
  {
   "cell_type": "markdown",
   "id": "5f5f5aa2",
   "metadata": {},
   "source": [
    "### Summary Analysis"
   ]
  },
  {
   "cell_type": "code",
   "execution_count": 8,
   "id": "969ca5cc",
   "metadata": {},
   "outputs": [
    {
     "data": {
      "image/png": "[encoded data removed]",
      "text/plain": [
       "<Figure size 432x288 with 1 Axes>"
      ]
     },
     "metadata": {
      "needs_background": "light"
     },
     "output_type": "display_data"
    }
   ],
   "source": [
    "# Group data by year and calculate the total immigrants for each year\n",
    "yearly_totals = data[year_columns].sum()\n",
    "\n",
    "# Create a bar chart\n",
    "sns.barplot(x=yearly_totals.index, y=yearly_totals.values)\n",
    "plt.xlabel('Year')\n",
    "plt.ylabel('Total Immigrants')\n",
    "plt.title('Total Immigration by Year')\n",
    "plt.xticks(rotation=45)\n",
    "plt.show()\n"
   ]
  },
  {
   "cell_type": "markdown",
   "id": "f86eb6f9",
   "metadata": {},
   "source": [
    "In 2010, there were more immigrants than ever, but in 1985, there were the least."
   ]
  },
  {
   "cell_type": "markdown",
   "id": "4cf9b83f",
   "metadata": {},
   "source": [
    "### Yearly Trends"
   ]
  },
  {
   "cell_type": "code",
   "execution_count": 9,
   "id": "86aae17b",
   "metadata": {},
   "outputs": [
    {
     "data": {
      "image/png": "[encoded data removed]",
      "text/plain": [
       "<Figure size 864x432 with 1 Axes>"
      ]
     },
     "metadata": {
      "needs_background": "light"
     },
     "output_type": "display_data"
    }
   ],
   "source": [
    "import pandas as pd\n",
    "import matplotlib.pyplot as plt\n",
    "\n",
    "\n",
    "# Group data by year and calculate the total immigrants for each year\n",
    "yearly_totals = data[data.columns[9:]].sum()\n",
    "\n",
    "# Create a line plot to visualize the yearly trends\n",
    "plt.figure(figsize=(12, 6))\n",
    "plt.plot(yearly_totals.index, yearly_totals.values, marker='o', linestyle='-')\n",
    "plt.xlabel('Year')\n",
    "plt.ylabel('Total Immigrants')\n",
    "plt.title('Yearly Immigration Trends (1980-2013)')\n",
    "plt.xticks(rotation=45)\n",
    "plt.grid(True)\n",
    "plt.show()\n"
   ]
  },
  {
   "cell_type": "markdown",
   "id": "01e7216c",
   "metadata": {},
   "source": [
    "With this, we can view how immigrants' behavior has changed over the years."
   ]
  }
 ],
 "metadata": {
  "kernelspec": {
   "display_name": "Python 3",
   "language": "python",
   "name": "python3"
  },
  "language_info": {
   "codemirror_mode": {
    "name": "ipython",
    "version": 3
   },
   "file_extension": ".py",
   "mimetype": "text/x-python",
   "name": "python",
   "nbconvert_exporter": "python",
   "pygments_lexer": "ipython3",
   "version": "3.8.8"
  }
 },
 "nbformat": 4,
 "nbformat_minor": 5
}
