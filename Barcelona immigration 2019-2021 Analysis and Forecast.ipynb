{
 "cells": [
  {
   "cell_type": "markdown",
   "id": "8713f51f",
   "metadata": {},
   "source": [
    "<h1 style=\"text-align: center; color: Orange;\">Immigrants</h1>"
   ]
  },
  {
   "cell_type": "markdown",
   "id": "22b9beb8",
   "metadata": {},
   "source": [
    "An immigrant is a person who moves from one country to another to reside there permanently or for an extended period. Immigrants leave their home country and enter a foreign country to establish a new life. This migration can be for various reasons, including seeking better economic opportunities, escaping political persecution, reuniting with family members, or pursuing education and career prospects.\n",
    "\n",
    "Immigrants can come from diverse backgrounds, cultures, and countries and contribute to the host country's cultural, social, and economic fabric. Immigration has been a significant aspect of human history, and many countries have established immigration policies and procedures to regulate the entry and integration of immigrants into their societies."
   ]
  },
  {
   "cell_type": "markdown",
   "id": "1bd23b55",
   "metadata": {},
   "source": [
    "<h2 style=\"text-align: center; color: Green;\">Barcelona Immigration 2019-2021 Analysis</h2>"
   ]
  },
  {
   "cell_type": "code",
   "execution_count": 1,
   "id": "50acf44d",
   "metadata": {},
   "outputs": [],
   "source": [
    "# importing libraries\n",
    "import numpy as np\n",
    "import pandas as pd\n",
    "import seaborn as sns\n",
    "import matplotlib.pyplot as plt"
   ]
  },
  {
   "cell_type": "code",
   "execution_count": 2,
   "id": "981cc912",
   "metadata": {},
   "outputs": [],
   "source": [
    "immigrations=pd.read_csv(\"immigration.csv\")"
   ]
  },
  {
   "cell_type": "code",
   "execution_count": 3,
   "id": "8aee04f2",
   "metadata": {},
   "outputs": [
    {
     "data": {
      "text/html": [
       "<div>\n",
       "<style scoped>\n",
       "    .dataframe tbody tr th:only-of-type {\n",
       "        vertical-align: middle;\n",
       "    }\n",
       "\n",
       "    .dataframe tbody tr th {\n",
       "        vertical-align: top;\n",
       "    }\n",
       "\n",
       "    .dataframe thead th {\n",
       "        text-align: right;\n",
       "    }\n",
       "</style>\n",
       "<table border=\"1\" class=\"dataframe\">\n",
       "  <thead>\n",
       "    <tr style=\"text-align: right;\">\n",
       "      <th></th>\n",
       "      <th>Year</th>\n",
       "      <th>District</th>\n",
       "      <th>Neighbourhood</th>\n",
       "      <th>Place_of_origin</th>\n",
       "      <th>Amount</th>\n",
       "    </tr>\n",
       "  </thead>\n",
       "  <tbody>\n",
       "    <tr>\n",
       "      <th>0</th>\n",
       "      <td>2019</td>\n",
       "      <td>Ciutat Vella</td>\n",
       "      <td>el Raval</td>\n",
       "      <td>Andalusia</td>\n",
       "      <td>95</td>\n",
       "    </tr>\n",
       "    <tr>\n",
       "      <th>1</th>\n",
       "      <td>2019</td>\n",
       "      <td>Ciutat Vella</td>\n",
       "      <td>el Barri Gotic</td>\n",
       "      <td>Andalusia</td>\n",
       "      <td>64</td>\n",
       "    </tr>\n",
       "    <tr>\n",
       "      <th>2</th>\n",
       "      <td>2019</td>\n",
       "      <td>Ciutat Vella</td>\n",
       "      <td>la Barceloneta</td>\n",
       "      <td>Andalusia</td>\n",
       "      <td>41</td>\n",
       "    </tr>\n",
       "    <tr>\n",
       "      <th>3</th>\n",
       "      <td>2019</td>\n",
       "      <td>Ciutat Vella</td>\n",
       "      <td>Sant Pere, Santa Caterina i la Ribera</td>\n",
       "      <td>Andalusia</td>\n",
       "      <td>67</td>\n",
       "    </tr>\n",
       "    <tr>\n",
       "      <th>4</th>\n",
       "      <td>2019</td>\n",
       "      <td>Eixample</td>\n",
       "      <td>el Fort Pienc</td>\n",
       "      <td>Andalusia</td>\n",
       "      <td>41</td>\n",
       "    </tr>\n",
       "  </tbody>\n",
       "</table>\n",
       "</div>"
      ],
      "text/plain": [
       "   Year      District                          Neighbourhood Place_of_origin  \\\n",
       "0  2019  Ciutat Vella                               el Raval       Andalusia   \n",
       "1  2019  Ciutat Vella                         el Barri Gotic       Andalusia   \n",
       "2  2019  Ciutat Vella                         la Barceloneta       Andalusia   \n",
       "3  2019  Ciutat Vella  Sant Pere, Santa Caterina i la Ribera       Andalusia   \n",
       "4  2019      Eixample                          el Fort Pienc       Andalusia   \n",
       "\n",
       "   Amount  \n",
       "0      95  \n",
       "1      64  \n",
       "2      41  \n",
       "3      67  \n",
       "4      41  "
      ]
     },
     "execution_count": 3,
     "metadata": {},
     "output_type": "execute_result"
    }
   ],
   "source": [
    "immigrations.head()"
   ]
  },
  {
   "cell_type": "code",
   "execution_count": 4,
   "id": "9c956358",
   "metadata": {},
   "outputs": [
    {
     "data": {
      "text/html": [
       "<div>\n",
       "<style scoped>\n",
       "    .dataframe tbody tr th:only-of-type {\n",
       "        vertical-align: middle;\n",
       "    }\n",
       "\n",
       "    .dataframe tbody tr th {\n",
       "        vertical-align: top;\n",
       "    }\n",
       "\n",
       "    .dataframe thead th {\n",
       "        text-align: right;\n",
       "    }\n",
       "</style>\n",
       "<table border=\"1\" class=\"dataframe\">\n",
       "  <thead>\n",
       "    <tr style=\"text-align: right;\">\n",
       "      <th></th>\n",
       "      <th>Year</th>\n",
       "      <th>District</th>\n",
       "      <th>Neighbourhood</th>\n",
       "      <th>Place_of_origin</th>\n",
       "      <th>Amount</th>\n",
       "    </tr>\n",
       "  </thead>\n",
       "  <tbody>\n",
       "    <tr>\n",
       "      <th>4375</th>\n",
       "      <td>2021</td>\n",
       "      <td>Sant Marti</td>\n",
       "      <td>la Verneda i la Pau</td>\n",
       "      <td>Basque Country</td>\n",
       "      <td>12</td>\n",
       "    </tr>\n",
       "    <tr>\n",
       "      <th>4376</th>\n",
       "      <td>2021</td>\n",
       "      <td>Sant Marti</td>\n",
       "      <td>la Verneda i la Pau</td>\n",
       "      <td>Rioja</td>\n",
       "      <td>2</td>\n",
       "    </tr>\n",
       "    <tr>\n",
       "      <th>4377</th>\n",
       "      <td>2021</td>\n",
       "      <td>Sant Marti</td>\n",
       "      <td>la Verneda i la Pau</td>\n",
       "      <td>Ceuta</td>\n",
       "      <td>2</td>\n",
       "    </tr>\n",
       "    <tr>\n",
       "      <th>4378</th>\n",
       "      <td>2021</td>\n",
       "      <td>Sant Marti</td>\n",
       "      <td>la Verneda i la Pau</td>\n",
       "      <td>Melilla</td>\n",
       "      <td>2</td>\n",
       "    </tr>\n",
       "    <tr>\n",
       "      <th>4379</th>\n",
       "      <td>2021</td>\n",
       "      <td>Sant Marti</td>\n",
       "      <td>la Verneda i la Pau</td>\n",
       "      <td>Foreign countries</td>\n",
       "      <td>389</td>\n",
       "    </tr>\n",
       "  </tbody>\n",
       "</table>\n",
       "</div>"
      ],
      "text/plain": [
       "      Year    District        Neighbourhood    Place_of_origin  Amount\n",
       "4375  2021  Sant Marti  la Verneda i la Pau     Basque Country      12\n",
       "4376  2021  Sant Marti  la Verneda i la Pau              Rioja       2\n",
       "4377  2021  Sant Marti  la Verneda i la Pau              Ceuta       2\n",
       "4378  2021  Sant Marti  la Verneda i la Pau            Melilla       2\n",
       "4379  2021  Sant Marti  la Verneda i la Pau  Foreign countries     389"
      ]
     },
     "execution_count": 4,
     "metadata": {},
     "output_type": "execute_result"
    }
   ],
   "source": [
    "immigrations.tail()"
   ]
  },
  {
   "cell_type": "code",
   "execution_count": 5,
   "id": "e0864b7b",
   "metadata": {},
   "outputs": [
    {
     "data": {
      "text/plain": [
       "(4380, 5)"
      ]
     },
     "execution_count": 5,
     "metadata": {},
     "output_type": "execute_result"
    }
   ],
   "source": [
    "immigrations.shape"
   ]
  },
  {
   "cell_type": "code",
   "execution_count": 6,
   "id": "ae80379d",
   "metadata": {},
   "outputs": [
    {
     "data": {
      "text/plain": [
       "count    4380.000000\n",
       "mean       66.310274\n",
       "std       245.410230\n",
       "min         0.000000\n",
       "25%         1.000000\n",
       "50%         5.000000\n",
       "75%        19.000000\n",
       "max      4199.000000\n",
       "Name: Amount, dtype: float64"
      ]
     },
     "execution_count": 6,
     "metadata": {},
     "output_type": "execute_result"
    }
   ],
   "source": [
    "immigrations[\"Amount\"].describe()"
   ]
  },
  {
   "cell_type": "markdown",
   "id": "0866397f",
   "metadata": {},
   "source": [
    "<h3 style=\"text-align: center; color: Green;\">Number of Immigrants in each Year</h3>"
   ]
  },
  {
   "cell_type": "code",
   "execution_count": 7,
   "id": "f0278574",
   "metadata": {},
   "outputs": [
    {
     "data": {
      "text/html": [
       "<div>\n",
       "<style scoped>\n",
       "    .dataframe tbody tr th:only-of-type {\n",
       "        vertical-align: middle;\n",
       "    }\n",
       "\n",
       "    .dataframe tbody tr th {\n",
       "        vertical-align: top;\n",
       "    }\n",
       "\n",
       "    .dataframe thead th {\n",
       "        text-align: right;\n",
       "    }\n",
       "</style>\n",
       "<table border=\"1\" class=\"dataframe\">\n",
       "  <thead>\n",
       "    <tr style=\"text-align: right;\">\n",
       "      <th></th>\n",
       "      <th>Year</th>\n",
       "      <th>Amount</th>\n",
       "    </tr>\n",
       "  </thead>\n",
       "  <tbody>\n",
       "    <tr>\n",
       "      <th>0</th>\n",
       "      <td>2019</td>\n",
       "      <td>115308</td>\n",
       "    </tr>\n",
       "    <tr>\n",
       "      <th>1</th>\n",
       "      <td>2020</td>\n",
       "      <td>75408</td>\n",
       "    </tr>\n",
       "    <tr>\n",
       "      <th>2</th>\n",
       "      <td>2021</td>\n",
       "      <td>99723</td>\n",
       "    </tr>\n",
       "  </tbody>\n",
       "</table>\n",
       "</div>"
      ],
      "text/plain": [
       "   Year  Amount\n",
       "0  2019  115308\n",
       "1  2020   75408\n",
       "2  2021   99723"
      ]
     },
     "execution_count": 7,
     "metadata": {},
     "output_type": "execute_result"
    }
   ],
   "source": [
    "yearly_immigration_sum = immigrations.groupby('Year')['Amount'].sum().reset_index()\n",
    "yearly_immigration_sum"
   ]
  },
  {
   "cell_type": "code",
   "execution_count": 8,
   "id": "461c89f0",
   "metadata": {},
   "outputs": [
    {
     "data": {
      "image/png": "[encoded data removed]",
      "text/plain": [
       "<Figure size 432x432 with 1 Axes>"
      ]
     },
     "metadata": {},
     "output_type": "display_data"
    }
   ],
   "source": [
    "# Create a pie chart\n",
    "plt.figure(figsize=(6, 6))\n",
    "plt.pie(yearly_immigration_sum['Amount'], labels=yearly_immigration_sum['Year'], autopct='%1.1f%%', startangle=140)\n",
    "plt.title('Yearly Immigration Amounts')\n",
    "plt.axis('equal')  \n",
    "\n",
    "# Display the pie chart\n",
    "plt.show()\n"
   ]
  },
  {
   "cell_type": "markdown",
   "id": "9c959531",
   "metadata": {},
   "source": [
    "<h3 style=\"text-align: center; color: Green;\">Number of Immigrants from each District</h3>"
   ]
  },
  {
   "cell_type": "code",
   "execution_count": 9,
   "id": "21f59bc0",
   "metadata": {},
   "outputs": [],
   "source": [
    "district_immigration_sum = immigrations.groupby('District')['Amount'].sum().reset_index()\n"
   ]
  },
  {
   "cell_type": "code",
   "execution_count": 10,
   "id": "b7ffa3ce",
   "metadata": {},
   "outputs": [
    {
     "data": {
      "text/html": [
       "<div>\n",
       "<style scoped>\n",
       "    .dataframe tbody tr th:only-of-type {\n",
       "        vertical-align: middle;\n",
       "    }\n",
       "\n",
       "    .dataframe tbody tr th {\n",
       "        vertical-align: top;\n",
       "    }\n",
       "\n",
       "    .dataframe thead th {\n",
       "        text-align: right;\n",
       "    }\n",
       "</style>\n",
       "<table border=\"1\" class=\"dataframe\">\n",
       "  <thead>\n",
       "    <tr style=\"text-align: right;\">\n",
       "      <th></th>\n",
       "      <th>District</th>\n",
       "      <th>Amount</th>\n",
       "    </tr>\n",
       "  </thead>\n",
       "  <tbody>\n",
       "    <tr>\n",
       "      <th>0</th>\n",
       "      <td>Ciutat Vella</td>\n",
       "      <td>38029</td>\n",
       "    </tr>\n",
       "    <tr>\n",
       "      <th>1</th>\n",
       "      <td>Eixample</td>\n",
       "      <td>58309</td>\n",
       "    </tr>\n",
       "    <tr>\n",
       "      <th>2</th>\n",
       "      <td>Gracia</td>\n",
       "      <td>21018</td>\n",
       "    </tr>\n",
       "    <tr>\n",
       "      <th>3</th>\n",
       "      <td>Horta-Guinardo</td>\n",
       "      <td>23621</td>\n",
       "    </tr>\n",
       "    <tr>\n",
       "      <th>4</th>\n",
       "      <td>Les Corts</td>\n",
       "      <td>12583</td>\n",
       "    </tr>\n",
       "    <tr>\n",
       "      <th>5</th>\n",
       "      <td>Nou Barris</td>\n",
       "      <td>24173</td>\n",
       "    </tr>\n",
       "    <tr>\n",
       "      <th>6</th>\n",
       "      <td>Sant Andreu</td>\n",
       "      <td>18510</td>\n",
       "    </tr>\n",
       "    <tr>\n",
       "      <th>7</th>\n",
       "      <td>Sant Marti</td>\n",
       "      <td>37880</td>\n",
       "    </tr>\n",
       "    <tr>\n",
       "      <th>8</th>\n",
       "      <td>Sants-Montjuic</td>\n",
       "      <td>35937</td>\n",
       "    </tr>\n",
       "    <tr>\n",
       "      <th>9</th>\n",
       "      <td>Sarria-Sant Gervasi</td>\n",
       "      <td>20379</td>\n",
       "    </tr>\n",
       "  </tbody>\n",
       "</table>\n",
       "</div>"
      ],
      "text/plain": [
       "              District  Amount\n",
       "0         Ciutat Vella   38029\n",
       "1             Eixample   58309\n",
       "2               Gracia   21018\n",
       "3       Horta-Guinardo   23621\n",
       "4            Les Corts   12583\n",
       "5           Nou Barris   24173\n",
       "6          Sant Andreu   18510\n",
       "7           Sant Marti   37880\n",
       "8       Sants-Montjuic   35937\n",
       "9  Sarria-Sant Gervasi   20379"
      ]
     },
     "execution_count": 10,
     "metadata": {},
     "output_type": "execute_result"
    }
   ],
   "source": [
    "district_immigration_sum"
   ]
  },
  {
   "cell_type": "code",
   "execution_count": 11,
   "id": "11113b9e",
   "metadata": {},
   "outputs": [
    {
     "data": {
      "image/png": "[encoded data removed]",
      "text/plain": [
       "<Figure size 720x432 with 1 Axes>"
      ]
     },
     "metadata": {
      "needs_background": "light"
     },
     "output_type": "display_data"
    }
   ],
   "source": [
    "# Create a column (bar) chart\n",
    "plt.figure(figsize=(10, 6))\n",
    "plt.bar(district_immigration_sum['District'], district_immigration_sum['Amount'])\n",
    "plt.xlabel('District')\n",
    "plt.ylabel('Amount of Immigrants')\n",
    "plt.title('Amount of Immigrants by District')\n",
    "\n",
    "plt.xticks(rotation=45)\n",
    "\n",
    "plt.show()"
   ]
  },
  {
   "cell_type": "markdown",
   "id": "623a690e",
   "metadata": {},
   "source": [
    "<h3 style=\"text-align: center; color: Green;\">Number of Immigrants from each Place of Origin</h3>"
   ]
  },
  {
   "cell_type": "code",
   "execution_count": 12,
   "id": "94f6dfff",
   "metadata": {},
   "outputs": [
    {
     "data": {
      "text/html": [
       "<div>\n",
       "<style scoped>\n",
       "    .dataframe tbody tr th:only-of-type {\n",
       "        vertical-align: middle;\n",
       "    }\n",
       "\n",
       "    .dataframe tbody tr th {\n",
       "        vertical-align: top;\n",
       "    }\n",
       "\n",
       "    .dataframe thead th {\n",
       "        text-align: right;\n",
       "    }\n",
       "</style>\n",
       "<table border=\"1\" class=\"dataframe\">\n",
       "  <thead>\n",
       "    <tr style=\"text-align: right;\">\n",
       "      <th></th>\n",
       "      <th>Place_of_origin</th>\n",
       "      <th>Amount</th>\n",
       "    </tr>\n",
       "  </thead>\n",
       "  <tbody>\n",
       "    <tr>\n",
       "      <th>0</th>\n",
       "      <td>Andalusia</td>\n",
       "      <td>6525</td>\n",
       "    </tr>\n",
       "    <tr>\n",
       "      <th>1</th>\n",
       "      <td>Aragon</td>\n",
       "      <td>2167</td>\n",
       "    </tr>\n",
       "    <tr>\n",
       "      <th>2</th>\n",
       "      <td>Asturias</td>\n",
       "      <td>832</td>\n",
       "    </tr>\n",
       "    <tr>\n",
       "      <th>3</th>\n",
       "      <td>Balearic Islands</td>\n",
       "      <td>3768</td>\n",
       "    </tr>\n",
       "    <tr>\n",
       "      <th>4</th>\n",
       "      <td>Basque Country</td>\n",
       "      <td>1949</td>\n",
       "    </tr>\n",
       "    <tr>\n",
       "      <th>5</th>\n",
       "      <td>Canary Islands</td>\n",
       "      <td>2593</td>\n",
       "    </tr>\n",
       "    <tr>\n",
       "      <th>6</th>\n",
       "      <td>Cantabria</td>\n",
       "      <td>526</td>\n",
       "    </tr>\n",
       "    <tr>\n",
       "      <th>7</th>\n",
       "      <td>Castile and Leon</td>\n",
       "      <td>2081</td>\n",
       "    </tr>\n",
       "    <tr>\n",
       "      <th>8</th>\n",
       "      <td>Castile-La Mancha</td>\n",
       "      <td>1213</td>\n",
       "    </tr>\n",
       "    <tr>\n",
       "      <th>9</th>\n",
       "      <td>Catalonia</td>\n",
       "      <td>91286</td>\n",
       "    </tr>\n",
       "    <tr>\n",
       "      <th>10</th>\n",
       "      <td>Ceuta</td>\n",
       "      <td>113</td>\n",
       "    </tr>\n",
       "    <tr>\n",
       "      <th>11</th>\n",
       "      <td>Community of Madrid</td>\n",
       "      <td>9037</td>\n",
       "    </tr>\n",
       "    <tr>\n",
       "      <th>12</th>\n",
       "      <td>Extremadura</td>\n",
       "      <td>615</td>\n",
       "    </tr>\n",
       "    <tr>\n",
       "      <th>13</th>\n",
       "      <td>Foreign countries</td>\n",
       "      <td>156607</td>\n",
       "    </tr>\n",
       "    <tr>\n",
       "      <th>14</th>\n",
       "      <td>Galicia</td>\n",
       "      <td>2503</td>\n",
       "    </tr>\n",
       "    <tr>\n",
       "      <th>15</th>\n",
       "      <td>Melilla</td>\n",
       "      <td>224</td>\n",
       "    </tr>\n",
       "    <tr>\n",
       "      <th>16</th>\n",
       "      <td>Murcia</td>\n",
       "      <td>1008</td>\n",
       "    </tr>\n",
       "    <tr>\n",
       "      <th>17</th>\n",
       "      <td>Navarra</td>\n",
       "      <td>713</td>\n",
       "    </tr>\n",
       "    <tr>\n",
       "      <th>18</th>\n",
       "      <td>Rioja</td>\n",
       "      <td>313</td>\n",
       "    </tr>\n",
       "    <tr>\n",
       "      <th>19</th>\n",
       "      <td>Valencian Community</td>\n",
       "      <td>6366</td>\n",
       "    </tr>\n",
       "  </tbody>\n",
       "</table>\n",
       "</div>"
      ],
      "text/plain": [
       "        Place_of_origin  Amount\n",
       "0             Andalusia    6525\n",
       "1                Aragon    2167\n",
       "2              Asturias     832\n",
       "3      Balearic Islands    3768\n",
       "4        Basque Country    1949\n",
       "5        Canary Islands    2593\n",
       "6             Cantabria     526\n",
       "7      Castile and Leon    2081\n",
       "8     Castile-La Mancha    1213\n",
       "9             Catalonia   91286\n",
       "10                Ceuta     113\n",
       "11  Community of Madrid    9037\n",
       "12          Extremadura     615\n",
       "13    Foreign countries  156607\n",
       "14              Galicia    2503\n",
       "15              Melilla     224\n",
       "16               Murcia    1008\n",
       "17              Navarra     713\n",
       "18                Rioja     313\n",
       "19  Valencian Community    6366"
      ]
     },
     "execution_count": 12,
     "metadata": {},
     "output_type": "execute_result"
    }
   ],
   "source": [
    "origin_immigration_sum = immigrations.groupby('Place_of_origin')['Amount'].sum().reset_index()\n",
    "origin_immigration_sum"
   ]
  },
  {
   "cell_type": "code",
   "execution_count": 13,
   "id": "79d3b85a",
   "metadata": {},
   "outputs": [
    {
     "data": {
      "image/png": "[encoded data removed]",
      "text/plain": [
       "<Figure size 720x432 with 1 Axes>"
      ]
     },
     "metadata": {
      "needs_background": "light"
     },
     "output_type": "display_data"
    }
   ],
   "source": [
    "# Create a horizontal bar chart\n",
    "plt.figure(figsize=(10, 6))\n",
    "plt.barh(origin_immigration_sum['Place_of_origin'], origin_immigration_sum['Amount'])\n",
    "plt.xlabel('Amount of Immigrants')\n",
    "plt.ylabel('Place of Origin')\n",
    "plt.title('Amount of Immigrants by Place of Origin (Horizontal Bar Chart)')\n",
    "\n",
    "# Display the horizontal bar chart\n",
    "plt.show()"
   ]
  },
  {
   "cell_type": "markdown",
   "id": "3f9862ac",
   "metadata": {},
   "source": [
    "<h3 style=\"text-align: center; color: Green;\">Forecast of the Immigrants for the Following Year</h3>"
   ]
  },
  {
   "cell_type": "code",
   "execution_count": 14,
   "id": "5c3f2964",
   "metadata": {},
   "outputs": [],
   "source": [
    "import statsmodels.api as sm\n",
    "from statsmodels.tsa.arima.model import ARIMA"
   ]
  },
  {
   "cell_type": "code",
   "execution_count": 15,
   "id": "34162501",
   "metadata": {},
   "outputs": [],
   "source": [
    "from sklearn.linear_model import LinearRegression"
   ]
  },
  {
   "cell_type": "code",
   "execution_count": 16,
   "id": "51aeff19",
   "metadata": {},
   "outputs": [],
   "source": [
    "# Group by 'Year' and calculate the total immigration for each year\n",
    "yearly_immigration_total = immigrations.groupby('Year')['Amount'].sum().reset_index()\n"
   ]
  },
  {
   "cell_type": "code",
   "execution_count": 17,
   "id": "9ee432ab",
   "metadata": {},
   "outputs": [],
   "source": [
    "# Create a linear regression model\n",
    "model = LinearRegression()"
   ]
  },
  {
   "cell_type": "code",
   "execution_count": 18,
   "id": "734debda",
   "metadata": {},
   "outputs": [
    {
     "data": {
      "text/plain": [
       "LinearRegression()"
      ]
     },
     "execution_count": 18,
     "metadata": {},
     "output_type": "execute_result"
    }
   ],
   "source": [
    "# Fit the model using historical data\n",
    "X = np.array(yearly_immigration_total['Year']).reshape(-1, 1)\n",
    "y = yearly_immigration_total['Amount']\n",
    "model.fit(X, y)"
   ]
  },
  {
   "cell_type": "code",
   "execution_count": 19,
   "id": "de12cb42",
   "metadata": {},
   "outputs": [],
   "source": [
    "# Forecast immigration for the next ten years\n",
    "forecast_years = list(range(2022, 2023))\n",
    "forecasted_immigration = model.predict(np.array(forecast_years).reshape(-1, 1))"
   ]
  },
  {
   "cell_type": "code",
   "execution_count": 20,
   "id": "6a4c8153",
   "metadata": {},
   "outputs": [],
   "source": [
    "# Create a DataFrame for the forecasted data\n",
    "forecast_df = pd.DataFrame({'Year': forecast_years, 'Forecasted_Amount': forecasted_immigration})\n"
   ]
  },
  {
   "cell_type": "code",
   "execution_count": 21,
   "id": "8048a4db",
   "metadata": {},
   "outputs": [
    {
     "name": "stdout",
     "output_type": "stream",
     "text": [
      "   Year  Forecasted_Amount\n",
      "0  2022            81228.0\n"
     ]
    }
   ],
   "source": [
    "# Display the forecasted data\n",
    "print(forecast_df)"
   ]
  },
  {
   "cell_type": "markdown",
   "id": "9de338af",
   "metadata": {},
   "source": [
    "<h2 style=\"text-align: center; color: Green;\">Conclusion</h2>"
   ]
  },
  {
   "cell_type": "markdown",
   "id": "126c85d1",
   "metadata": {},
   "source": [
    "In summary, we explored data related to immigration, visualized it through bar charts, and discussed forecasting. While our initial analysis provided insights, real-world immigration forecasting is complex and requires advanced models. Careful consideration of historical trends and external factors is crucial for accurate predictions in immigration analytics.\n"
   ]
  },
  {
   "cell_type": "markdown",
   "id": "2e938c63",
   "metadata": {},
   "source": [
    "<h1 style=\"text-align: center; color: Orange;\">End</h1>"
   ]
  }
 ],
 "metadata": {
  "kernelspec": {
   "display_name": "Python 3",
   "language": "python",
   "name": "python3"
  },
  "language_info": {
   "codemirror_mode": {
    "name": "ipython",
    "version": 3
   },
   "file_extension": ".py",
   "mimetype": "text/x-python",
   "name": "python",
   "nbconvert_exporter": "python",
   "pygments_lexer": "ipython3",
   "version": "3.8.8"
  }
 },
 "nbformat": 4,
 "nbformat_minor": 5
}
